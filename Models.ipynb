{
 "cells": [
  {
   "cell_type": "code",
   "execution_count": 1,
   "id": "e5ba06c2-927f-46dc-ae95-69ecc7fda3e0",
   "metadata": {},
   "outputs": [],
   "source": [
    "from sklearn.linear_model import LogisticRegression, LogisticRegressionCV\n",
    "from sklearn.tree import DecisionTreeClassifier\n",
    "from sklearn.ensemble import RandomForestClassifier\n",
    "from sklearn.naive_bayes import GaussianNB\n",
    "from sklearn import svm\n",
    "from catboost import CatBoostClassifier\n",
    "from lightgbm import LGBMClassifier\n",
    "from sklearn.preprocessing import MinMaxScaler\n",
    "from sklearn.metrics import accuracy_score\n",
    "from sklearn.model_selection import train_test_split"
   ]
  },
  {
   "cell_type": "code",
   "execution_count": 2,
   "id": "0bbb3bb1-023e-4a5f-a36f-8f15d0da51b1",
   "metadata": {},
   "outputs": [],
   "source": [
    "def MinMaxScale(df, df_test):\n",
    "    scaler = MinMaxScaler()\n",
    "    scaler.fit(df)\n",
    "    df = pd.DataFrame(scaler.transform(df), columns = df.columns)\n",
    "    df_test = pd.DataFrame(scaler.transform(df_test), columns = df.columns)\n",
    "    \n",
    "    return df, df_test\n",
    "\n",
    "def Compare_Features_Accuracy(X_List, y, Kfold = 5):\n",
    "    cols = [f'List{k}' for k in range(len(X_List))]\n",
    "    Results = pd.DataFrame(index = ['Naive Bayes', 'Logistic Regression', 'LightGBM', 'CatBoost'], \n",
    "                           columns = cols).fillna(0)\n",
    "    \n",
    "    def evaluate_model(X_train, y_train, X_test, y_test, model, scaling = False):\n",
    "        if scaling:\n",
    "            X_train, X_test = MinMaxScale(X_train, X_test)\n",
    "        model.fit(X_train, y_train)\n",
    "        y_pred = model.predict(X_test)\n",
    "        return accuracy_score(y_test, y_pred)\n",
    "    \n",
    "    for i in range(Kfold):\n",
    "        random_state = int(60/(i + 1)) + 42\n",
    "        for k in range(len(X_List)):\n",
    "            X = X_List[k]\n",
    "            X_train, X_test, y_train, y_test = train_test_split(X, y, test_size = 0.2, random_state = random_state)\n",
    "    \n",
    "            models = {'Naive Bayes': GaussianNB(), \n",
    "                      'Logistic Regression': LogisticRegression(penalty = 'l1', solver = 'liblinear'), \n",
    "                      'LightGBM': LGBMClassifier(learning_rate = 0.01, num_leaves = 15, verbose = -1), \n",
    "                      'CatBoost': CatBoostClassifier(learning_rate = 0.1, iterations = 100, verbose = False)}\n",
    "        \n",
    "            for m in models.keys():\n",
    "                if (m == 'Logistic Regression') | (m == 'Naive Bayes'):\n",
    "                    scaling = True\n",
    "                else:\n",
    "                    scaling = False\n",
    "                score = evaluate_model(X_train, y_train, X_test, y_test, models[m], scaling)\n",
    "                Results.loc[m, f'List{k}'] += score\n",
    "            \n",
    "    Results /= Kfold\n",
    "    return Results"
   ]
  },
  {
   "cell_type": "code",
   "execution_count": 3,
   "id": "b5654a45-efcf-4169-9aa0-827ee9d67bf6",
   "metadata": {},
   "outputs": [],
   "source": [
    "def highlight_max(s, props = ''):\n",
    "    return np.where(s == np.nanmax(s.values), props, '')\n",
    "\n",
    "def style_results(Results):\n",
    "    Results_styled = Results.style.format(precision = 4)\n",
    "    Results_styled.apply(highlight_max, props = 'color:#C41E3A', axis = 1)\n",
    "    return Results_styled\n",
    "\n",
    "def Compare_Ordered_Feature_Lists(df, target, basic_list, features_list, Kfold = 5):\n",
    "    y = df[target]\n",
    "    \n",
    "    X_list = [df[basic_list].copy()]\n",
    "    print('List0: ', basic_list)\n",
    "    \n",
    "    for k in range(len(features_list)):\n",
    "        List = basic_list + features_list[:k+1]\n",
    "        print(f'List{k + 1}: ', List)\n",
    "        X_list.append(df[List].copy())\n",
    "        \n",
    "    Results = Compare_Features_Accuracy(X_list, y, Kfold = Kfold)\n",
    "    return style_results(Results)"
   ]
  },
  {
   "cell_type": "code",
   "execution_count": null,
   "id": "c4495b39-84f6-41c4-a409-1df58731ce90",
   "metadata": {},
   "outputs": [],
   "source": []
  }
 ],
 "metadata": {
  "kernelspec": {
   "display_name": "Python 3 (ipykernel)",
   "language": "python",
   "name": "python3"
  },
  "language_info": {
   "codemirror_mode": {
    "name": "ipython",
    "version": 3
   },
   "file_extension": ".py",
   "mimetype": "text/x-python",
   "name": "python",
   "nbconvert_exporter": "python",
   "pygments_lexer": "ipython3",
   "version": "3.8.10"
  }
 },
 "nbformat": 4,
 "nbformat_minor": 5
}
